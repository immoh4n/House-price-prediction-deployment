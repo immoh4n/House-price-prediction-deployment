{
 "cells": [
  {
   "cell_type": "code",
   "execution_count": 24,
   "id": "69a9b6e3-0ab1-4c1c-b9f1-a085650ad552",
   "metadata": {},
   "outputs": [],
   "source": [
    "import numpy as np\n",
    "import pandas as pd\n",
    "from sklearn.model_selection import train_test_split\n",
    "from sklearn.preprocessing import StandardScaler\n",
    "from sklearn.linear_model import LinearRegression\n",
    "from sklearn.neighbors import KNeighborsRegressor\n",
    "from sklearn.tree import DecisionTreeRegressor\n",
    "from sklearn.metrics import mean_squared_error\n",
    "from sklearn.impute import SimpleImputer\n",
    "\n",
    "import warnings\n",
    "warnings.filterwarnings(\"ignore\")\n",
    "\n",
    "# Load your dataset\n",
    "data = pd.read_csv('Chennai houseing sale_2.csv')\n",
    "\n",
    "# Preprocess data\n",
    "data.columns = data.columns.str.lower()\n",
    "data.area = data.area.str.lower()\n",
    "data.area = data.area.map({'karapakkam': 1, 'adyar': 2, 'chrompet': 3, 'velachery': 4,\n",
    "                           'kk nagar': 5, 'anna nagar': 6, 't nagar': 7})\n",
    "data.park_facil = data.park_facil.map({'yes': 1, 'no': 0})\n",
    "\n",
    "# Define features and target variables\n",
    "X = data.drop(columns=['commis', 'sales_price', 'reg_fee'], axis=1)\n",
    "y = data['sales_price']\n",
    "\n",
    "# Splitting the dataset into training and testing sets\n",
    "X_train, X_test, y_train, y_test = train_test_split(X, y, test_size=0.2, random_state=42)\n",
    "\n",
    "# Initialize the imputer with strategy='mean' to impute missing values with the mean\n",
    "imputer = SimpleImputer(strategy='mean')\n",
    "\n",
    "# Fit and transform the imputer on the training data\n",
    "X_train_imputed = imputer.fit_transform(X_train)\n",
    "\n",
    "# Transform the test data using the fitted imputer\n",
    "X_test_imputed = imputer.transform(X_test)\n",
    "\n",
    "# Data preprocessing: Standardize features\n",
    "scaler = StandardScaler()\n",
    "X_train_scaled = scaler.fit_transform(X_train_imputed)\n",
    "X_test_scaled = scaler.transform(X_test_imputed)\n",
    "\n",
    "# # Initialize Linear Regression model\n",
    "# lr = LinearRegression()\n",
    "# lr.fit(X_train_scaled, y_train)\n",
    "\n",
    "# # Initialize k-NN Regression model\n",
    "# knn_regressor = KNeighborsRegressor(n_neighbors=5)\n",
    "# knn_regressor.fit(X_train_scaled, y_train)\n",
    "\n",
    "# Initialize Decision Tree Regression model\n",
    "dt_regressor = DecisionTreeRegressor(random_state=42)\n",
    "dt_regressor.fit(X_train_scaled, y_train)\n",
    "\n",
    "# #Manually input features for a new house\n",
    "# print(\"Enter features for the new house:\")\n",
    "# area = int(input(\"Area (zipcode, district, etc.): \"))\n",
    "# sqft = int(input(\"Square footage: \"))\n",
    "# dist_main = int(input(\"Distance to main area: \"))\n",
    "# bedrooms = int(input(\"Number of bedrooms: \"))\n",
    "# bathrooms = int(input(\"Number of bathrooms: \"))\n",
    "# room = int(input(\"Number of rooms:\"))\n",
    "# park = int(input(\"Nearby park (1 for yes, 0 for no): \"))\n",
    "def sam(area, sqft, dist_main, bedrooms, bathrooms, room, park):\n",
    "    # Example prediction for a new house using Linear Regression\n",
    "    new_house_features = np.array([[area, sqft, dist_main, bedrooms, bathrooms, room, park]])\n",
    "    new_house_features_scaled = scaler.transform(new_house_features)\n",
    "    lr_predicted_price = lr.predict(new_house_features_scaled)[0]\n",
    "\n",
    "# # Example prediction for a new house using k-NN Regression\n",
    "#     knn_predicted_price = knn_regressor.predict(new_house_features_scaled)[0]\n",
    "\n",
    "# Example prediction for a new house using Decision Tree Regression\n",
    "    dt_predicted_price = dt_regressor.predict(new_house_features_scaled)[0]\n",
    "    return dt_predicted_price\n",
    "\n",
    "\n",
    "# print(\"Predicted Price for the New House (Linear Regression):\", lr_predicted_price)\n",
    "# print(\"Predicted Price for the New House (k-NN Regression):\", knn_predicted_price)\n",
    "    print(\"Predicted Price for the New House (Decision Tree Regression):\", dt_predicted_price)\n"
   ]
  },
  {
   "cell_type": "code",
   "execution_count": 25,
   "id": "5db18254-f3af-4a04-92a4-da45cd29aa3c",
   "metadata": {},
   "outputs": [],
   "source": [
    "import pickle"
   ]
  },
  {
   "cell_type": "code",
   "execution_count": 26,
   "id": "8e36c824-d1c7-41d7-aaa4-2cbcfda75da8",
   "metadata": {},
   "outputs": [],
   "source": [
    "filename='house_price_model.sav'\n",
    "pickle.dump(dt_regressor, open(filename, 'wb'))"
   ]
  },
  {
   "cell_type": "code",
   "execution_count": 27,
   "id": "e2d9bc2e-771e-4591-a5fb-d9e5873033eb",
   "metadata": {},
   "outputs": [],
   "source": [
    "loaded_model = pickle.load(open('house_price_model.sav', 'rb'))"
   ]
  },
  {
   "cell_type": "code",
   "execution_count": 28,
   "id": "917e9fee-3019-4f9c-aeee-0031c87b57e4",
   "metadata": {},
   "outputs": [
    {
     "name": "stdout",
     "output_type": "stream",
     "text": [
      "area\n",
      "int_sqft\n",
      "dist_mainroad\n",
      "n_bedroom\n",
      "n_bathroom\n",
      "n_room\n",
      "park_facil\n",
      "null\n"
     ]
    }
   ],
   "source": [
    "for column in X.columns:\n",
    "  print(column)"
   ]
  },
  {
   "cell_type": "code",
   "execution_count": null,
   "id": "e6822a27-d6ed-44b3-8678-e9e3e4bc692c",
   "metadata": {},
   "outputs": [],
   "source": []
  },
  {
   "cell_type": "code",
   "execution_count": null,
   "id": "e31ea3ed-36bb-485d-a38f-3bebec3fe6a1",
   "metadata": {},
   "outputs": [],
   "source": []
  }
 ],
 "metadata": {
  "kernelspec": {
   "display_name": "Python 3 (ipykernel)",
   "language": "python",
   "name": "python3"
  },
  "language_info": {
   "codemirror_mode": {
    "name": "ipython",
    "version": 3
   },
   "file_extension": ".py",
   "mimetype": "text/x-python",
   "name": "python",
   "nbconvert_exporter": "python",
   "pygments_lexer": "ipython3",
   "version": "3.12.2"
  }
 },
 "nbformat": 4,
 "nbformat_minor": 5
}
